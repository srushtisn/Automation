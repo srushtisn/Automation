{
 "cells": [
  {
   "cell_type": "markdown",
   "id": "032c3f4e",
   "metadata": {},
   "source": [
    "# Data Science Tools and Ecosystem"
   ]
  },
  {
   "cell_type": "markdown",
   "id": "3bc46472",
   "metadata": {},
   "source": [
    "## In this notebook, Data Science Tools and Ecosystem are summarized.\n",
    "\n",
    "#### Objectives:\n",
    "\n",
    "1. List popular languages that Data Scientists use.\n",
    "2. List commonly used libraries used by Data Scientists.\n",
    "3. Comment on Data Science tools."
   ]
  },
  {
   "cell_type": "markdown",
   "id": "f7542de7",
   "metadata": {},
   "source": [
    "### Some of the popular languages that Data Scientists use are:\n",
    "\n",
    "1. Python.\n",
    "2. R.\n",
    "3. SQL.\n",
    "4. Java.\n",
    "5. Julia.\n",
    "6. Scala.\n",
    "7. C/C++.\n",
    "8. JavaScript.\n"
   ]
  },
  {
   "cell_type": "markdown",
   "id": "92ca5b79",
   "metadata": {},
   "source": [
    "### Some of the commonly used libraries used by Data Scientists include:\n",
    "\n",
    "1. Matplotlib.\n",
    "2. NumPy.\n",
    "3. Pandas.\n",
    "4. Seaborn. \n",
    "5. SciKit-Learn."
   ]
  },
  {
   "cell_type": "markdown",
   "id": "55065525",
   "metadata": {},
   "source": [
    "| Data Science Tools |\n",
    "| --- |\n",
    "| Anaconda |\n",
    "| Jupyter Notebooks |\n",
    "| R Studio |\n",
    "| Spider |"
   ]
  },
  {
   "cell_type": "code",
   "execution_count": null,
   "id": "d856c4b5",
   "metadata": {},
   "outputs": [],
   "source": []
  }
 ],
 "metadata": {
  "kernelspec": {
   "display_name": "Python 3 (ipykernel)",
   "language": "python",
   "name": "python3"
  },
  "language_info": {
   "codemirror_mode": {
    "name": "ipython",
    "version": 3
   },
   "file_extension": ".py",
   "mimetype": "text/x-python",
   "name": "python",
   "nbconvert_exporter": "python",
   "pygments_lexer": "ipython3",
   "version": "3.11.5"
  }
 },
 "nbformat": 4,
 "nbformat_minor": 5
}
